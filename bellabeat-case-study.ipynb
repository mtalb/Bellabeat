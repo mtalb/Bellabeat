{
 "cells": [
  {
   "cell_type": "markdown",
   "id": "4f16679b",
   "metadata": {
    "papermill": {
     "duration": 0.02066,
     "end_time": "2021-07-17T16:14:58.961499",
     "exception": false,
     "start_time": "2021-07-17T16:14:58.940839",
     "status": "completed"
    },
    "tags": []
   },
   "source": [
    "# BellaBeat Case Study\n"
   ]
  },
  {
   "attachments": {
    "c5db0ecf-f916-4a3d-9584-fb7a4ec39363.png": {
     "image/png": "[encoded data removed]"
    }
   },
   "cell_type": "markdown",
   "id": "bf0c8a0a",
   "metadata": {
    "papermill": {
     "duration": 0.019334,
     "end_time": "2021-07-17T16:14:58.999817",
     "exception": false,
     "start_time": "2021-07-17T16:14:58.980483",
     "status": "completed"
    },
    "tags": []
   },
   "source": [
    "![bellabeat.png](attachment:c5db0ecf-f916-4a3d-9584-fb7a4ec39363.png)"
   ]
  },
  {
   "cell_type": "markdown",
   "id": "b3a82894",
   "metadata": {
    "papermill": {
     "duration": 0.018708,
     "end_time": "2021-07-17T16:14:59.037406",
     "exception": false,
     "start_time": "2021-07-17T16:14:59.018698",
     "status": "completed"
    },
    "tags": []
   },
   "source": [
    "# How can a wellness technology company play it smart?"
   ]
  },
  {
   "cell_type": "markdown",
   "id": "0014c35f",
   "metadata": {
    "papermill": {
     "duration": 0.018734,
     "end_time": "2021-07-17T16:14:59.074862",
     "exception": false,
     "start_time": "2021-07-17T16:14:59.056128",
     "status": "completed"
    },
    "tags": []
   },
   "source": [
    "# Phase 1: ASK"
   ]
  },
  {
   "cell_type": "markdown",
   "id": "fbe91b28",
   "metadata": {
    "papermill": {
     "duration": 0.018209,
     "end_time": "2021-07-17T16:14:59.112197",
     "exception": false,
     "start_time": "2021-07-17T16:14:59.093988",
     "status": "completed"
    },
    "tags": []
   },
   "source": [
    "**Introduction**\n",
    "\n",
    "Bellabeat, is a high-tech manufacturer of health focused products for women.They believe that analyzing smart device fitness data could help unlock new growth opportunities for the company."
   ]
  },
  {
   "cell_type": "markdown",
   "id": "3a3120c5",
   "metadata": {
    "papermill": {
     "duration": 0.018175,
     "end_time": "2021-07-17T16:14:59.148694",
     "exception": false,
     "start_time": "2021-07-17T16:14:59.130519",
     "status": "completed"
    },
    "tags": []
   },
   "source": [
    "**Key Stakeholders**\n",
    "\n",
    "* Urška Sršen: Bellabeat’s cofounder and Chief Creative Officer\n",
    "\n",
    "* Sando Mur: Mathematician and Bellabeat’s cofounder; key member of the Bellabeat executive team\n",
    "\n",
    "* Bellabeat marketing analytics team\n"
   ]
  },
  {
   "cell_type": "markdown",
   "id": "1cb0700e",
   "metadata": {
    "papermill": {
     "duration": 0.018301,
     "end_time": "2021-07-17T16:14:59.185138",
     "exception": false,
     "start_time": "2021-07-17T16:14:59.166837",
     "status": "completed"
    },
    "tags": []
   },
   "source": [
    "**Business Task**\n",
    "\n",
    "Analyze smart device fitness data from non-Bellabeat products in order to gain insight into trends influencing smart device usage. Determine how these trends could help influence Bellabeat marketing strategy.\n"
   ]
  },
  {
   "cell_type": "markdown",
   "id": "abdd5b4e",
   "metadata": {
    "papermill": {
     "duration": 0.018011,
     "end_time": "2021-07-17T16:14:59.221387",
     "exception": false,
     "start_time": "2021-07-17T16:14:59.203376",
     "status": "completed"
    },
    "tags": []
   },
   "source": [
    "# Phase 2: PREPARE"
   ]
  },
  {
   "cell_type": "markdown",
   "id": "9b32b290",
   "metadata": {
    "papermill": {
     "duration": 0.017919,
     "end_time": "2021-07-17T16:14:59.257339",
     "exception": false,
     "start_time": "2021-07-17T16:14:59.239420",
     "status": "completed"
    },
    "tags": []
   },
   "source": [
    "**Data Used**\n",
    "\n",
    "The dataset I used for this analysis is FitBit Fitness Tracker Data (https://www.kaggle.com/arashnic/fitbit) publicly available through Kaggle.com. These datasets were generated by respondents to a distributed survey via Amazon Mechanical Turk between 03.12.2016-05.12.2016. Thirty eligible Fitbit users consented to the submission of personal tracker data, including minute-level output for physical activity, heart rate, and sleep monitoring. \n"
   ]
  },
  {
   "cell_type": "markdown",
   "id": "8a7c10e9",
   "metadata": {
    "papermill": {
     "duration": 0.017976,
     "end_time": "2021-07-17T16:14:59.293320",
     "exception": false,
     "start_time": "2021-07-17T16:14:59.275344",
     "status": "completed"
    },
    "tags": []
   },
   "source": [
    "**Installing and loading packages and libraries**"
   ]
  },
  {
   "cell_type": "code",
   "execution_count": 1,
   "id": "5f283917",
   "metadata": {
    "execution": {
     "iopub.execute_input": "2021-07-17T16:14:59.337214Z",
     "iopub.status.busy": "2021-07-17T16:14:59.334665Z",
     "iopub.status.idle": "2021-07-17T16:15:00.661517Z",
     "shell.execute_reply": "2021-07-17T16:15:00.659755Z"
    },
    "papermill": {
     "duration": 1.350278,
     "end_time": "2021-07-17T16:15:00.661697",
     "exception": false,
     "start_time": "2021-07-17T16:14:59.311419",
     "status": "completed"
    },
    "tags": []
   },
   "outputs": [
    {
     "name": "stderr",
     "output_type": "stream",
     "text": [
      "\n",
      "Attaching package: ‘lubridate’\n",
      "\n",
      "\n",
      "The following objects are masked from ‘package:base’:\n",
      "\n",
      "    date, intersect, setdiff, union\n",
      "\n",
      "\n",
      "── \u001b[1mAttaching packages\u001b[22m ─────────────────────────────────────── tidyverse 1.3.1 ──\n",
      "\n",
      "\u001b[32m✔\u001b[39m \u001b[34mggplot2\u001b[39m 3.3.4     \u001b[32m✔\u001b[39m \u001b[34mpurrr  \u001b[39m 0.3.4\n",
      "\u001b[32m✔\u001b[39m \u001b[34mtibble \u001b[39m 3.1.2     \u001b[32m✔\u001b[39m \u001b[34mdplyr  \u001b[39m 1.0.7\n",
      "\u001b[32m✔\u001b[39m \u001b[34mtidyr  \u001b[39m 1.1.3     \u001b[32m✔\u001b[39m \u001b[34mstringr\u001b[39m 1.4.0\n",
      "\u001b[32m✔\u001b[39m \u001b[34mreadr  \u001b[39m 1.4.0     \u001b[32m✔\u001b[39m \u001b[34mforcats\u001b[39m 0.5.1\n",
      "\n",
      "── \u001b[1mConflicts\u001b[22m ────────────────────────────────────────── tidyverse_conflicts() ──\n",
      "\u001b[31m✖\u001b[39m \u001b[34mlubridate\u001b[39m::\u001b[32mas.difftime()\u001b[39m masks \u001b[34mbase\u001b[39m::as.difftime()\n",
      "\u001b[31m✖\u001b[39m \u001b[34mlubridate\u001b[39m::\u001b[32mdate()\u001b[39m        masks \u001b[34mbase\u001b[39m::date()\n",
      "\u001b[31m✖\u001b[39m \u001b[34mdplyr\u001b[39m::\u001b[32mfilter()\u001b[39m          masks \u001b[34mstats\u001b[39m::filter()\n",
      "\u001b[31m✖\u001b[39m \u001b[34mlubridate\u001b[39m::\u001b[32mintersect()\u001b[39m   masks \u001b[34mbase\u001b[39m::intersect()\n",
      "\u001b[31m✖\u001b[39m \u001b[34mdplyr\u001b[39m::\u001b[32mlag()\u001b[39m             masks \u001b[34mstats\u001b[39m::lag()\n",
      "\u001b[31m✖\u001b[39m \u001b[34mlubridate\u001b[39m::\u001b[32msetdiff()\u001b[39m     masks \u001b[34mbase\u001b[39m::setdiff()\n",
      "\u001b[31m✖\u001b[39m \u001b[34mlubridate\u001b[39m::\u001b[32munion()\u001b[39m       masks \u001b[34mbase\u001b[39m::union()\n",
      "\n"
     ]
    }
   ],
   "source": [
    "\n",
    "#install.packages(\"lubridate\")\n",
    "library(lubridate)\n",
    "#install.packages(\"tidyverse\") \n",
    "library(tidyverse)\n"
   ]
  },
  {
   "cell_type": "markdown",
   "id": "f58023c1",
   "metadata": {
    "papermill": {
     "duration": 0.019312,
     "end_time": "2021-07-17T16:15:00.700600",
     "exception": false,
     "start_time": "2021-07-17T16:15:00.681288",
     "status": "completed"
    },
    "tags": []
   },
   "source": [
    "**Importing CSV files**\n",
    "\n",
    "I am using the datasets daily activity and daily sleep since Bellabeats products focus on activity tracking and sleep tracking."
   ]
  },
  {
   "cell_type": "code",
   "execution_count": 2,
   "id": "912c9d9e",
   "metadata": {
    "execution": {
     "iopub.execute_input": "2021-07-17T16:15:00.789805Z",
     "iopub.status.busy": "2021-07-17T16:15:00.743544Z",
     "iopub.status.idle": "2021-07-17T16:15:00.844739Z",
     "shell.execute_reply": "2021-07-17T16:15:00.843314Z"
    },
    "papermill": {
     "duration": 0.124986,
     "end_time": "2021-07-17T16:15:00.844879",
     "exception": false,
     "start_time": "2021-07-17T16:15:00.719893",
     "status": "completed"
    },
    "tags": []
   },
   "outputs": [],
   "source": [
    "daily_activity_raw <- read.csv(\"../input/fit-bit-data/dailyActivity_merged.csv\")\n",
    "sleep_day_raw <- read.csv(\"../input/fit-bit-data/sleepDay_merged.csv\")"
   ]
  },
  {
   "cell_type": "markdown",
   "id": "994d3655",
   "metadata": {
    "papermill": {
     "duration": 0.019433,
     "end_time": "2021-07-17T16:15:00.883811",
     "exception": false,
     "start_time": "2021-07-17T16:15:00.864378",
     "status": "completed"
    },
    "tags": []
   },
   "source": [
    "**Summary Statistics**"
   ]
  },
  {
   "cell_type": "code",
   "execution_count": 3,
   "id": "2f15ee15",
   "metadata": {
    "execution": {
     "iopub.execute_input": "2021-07-17T16:15:00.928478Z",
     "iopub.status.busy": "2021-07-17T16:15:00.926587Z",
     "iopub.status.idle": "2021-07-17T16:15:00.974977Z",
     "shell.execute_reply": "2021-07-17T16:15:00.973401Z"
    },
    "papermill": {
     "duration": 0.07192,
     "end_time": "2021-07-17T16:15:00.975157",
     "exception": false,
     "start_time": "2021-07-17T16:15:00.903237",
     "status": "completed"
    },
    "tags": []
   },
   "outputs": [
    {
     "data": {
      "text/html": [
       "<table class=\"dataframe\">\n",
       "<caption>A data.frame: 6 × 15</caption>\n",
       "<thead>\n",
       "\t<tr><th></th><th scope=col>Id</th><th scope=col>ActivityDate</th><th scope=col>TotalSteps</th><th scope=col>TotalDistance</th><th scope=col>TrackerDistance</th><th scope=col>LoggedActivitiesDistance</th><th scope=col>VeryActiveDistance</th><th scope=col>ModeratelyActiveDistance</th><th scope=col>LightActiveDistance</th><th scope=col>SedentaryActiveDistance</th><th scope=col>VeryActiveMinutes</th><th scope=col>FairlyActiveMinutes</th><th scope=col>LightlyActiveMinutes</th><th scope=col>SedentaryMinutes</th><th scope=col>Calories</th></tr>\n",
       "\t<tr><th></th><th scope=col>&lt;dbl&gt;</th><th scope=col>&lt;chr&gt;</th><th scope=col>&lt;int&gt;</th><th scope=col>&lt;dbl&gt;</th><th scope=col>&lt;dbl&gt;</th><th scope=col>&lt;dbl&gt;</th><th scope=col>&lt;dbl&gt;</th><th scope=col>&lt;dbl&gt;</th><th scope=col>&lt;dbl&gt;</th><th scope=col>&lt;dbl&gt;</th><th scope=col>&lt;int&gt;</th><th scope=col>&lt;int&gt;</th><th scope=col>&lt;int&gt;</th><th scope=col>&lt;int&gt;</th><th scope=col>&lt;int&gt;</th></tr>\n",
       "</thead>\n",
       "<tbody>\n",
       "\t<tr><th scope=row>1</th><td>1503960366</td><td>4/12/2016</td><td>13162</td><td>8.50</td><td>8.50</td><td>0</td><td>1.88</td><td>0.55</td><td>6.06</td><td>0</td><td>25</td><td>13</td><td>328</td><td> 728</td><td>1985</td></tr>\n",
       "\t<tr><th scope=row>2</th><td>1503960366</td><td>4/13/2016</td><td>10735</td><td>6.97</td><td>6.97</td><td>0</td><td>1.57</td><td>0.69</td><td>4.71</td><td>0</td><td>21</td><td>19</td><td>217</td><td> 776</td><td>1797</td></tr>\n",
       "\t<tr><th scope=row>3</th><td>1503960366</td><td>4/14/2016</td><td>10460</td><td>6.74</td><td>6.74</td><td>0</td><td>2.44</td><td>0.40</td><td>3.91</td><td>0</td><td>30</td><td>11</td><td>181</td><td>1218</td><td>1776</td></tr>\n",
       "\t<tr><th scope=row>4</th><td>1503960366</td><td>4/15/2016</td><td> 9762</td><td>6.28</td><td>6.28</td><td>0</td><td>2.14</td><td>1.26</td><td>2.83</td><td>0</td><td>29</td><td>34</td><td>209</td><td> 726</td><td>1745</td></tr>\n",
       "\t<tr><th scope=row>5</th><td>1503960366</td><td>4/16/2016</td><td>12669</td><td>8.16</td><td>8.16</td><td>0</td><td>2.71</td><td>0.41</td><td>5.04</td><td>0</td><td>36</td><td>10</td><td>221</td><td> 773</td><td>1863</td></tr>\n",
       "\t<tr><th scope=row>6</th><td>1503960366</td><td>4/17/2016</td><td> 9705</td><td>6.48</td><td>6.48</td><td>0</td><td>3.19</td><td>0.78</td><td>2.51</td><td>0</td><td>38</td><td>20</td><td>164</td><td> 539</td><td>1728</td></tr>\n",
       "</tbody>\n",
       "</table>\n"
      ],
      "text/latex": [
       "A data.frame: 6 × 15\n",
       "\\begin{tabular}{r|lllllllllllllll}\n",
       "  & Id & ActivityDate & TotalSteps & TotalDistance & TrackerDistance & LoggedActivitiesDistance & VeryActiveDistance & ModeratelyActiveDistance & LightActiveDistance & SedentaryActiveDistance & VeryActiveMinutes & FairlyActiveMinutes & LightlyActiveMinutes & SedentaryMinutes & Calories\\\\\n",
       "  & <dbl> & <chr> & <int> & <dbl> & <dbl> & <dbl> & <dbl> & <dbl> & <dbl> & <dbl> & <int> & <int> & <int> & <int> & <int>\\\\\n",
       "\\hline\n",
       "\t1 & 1503960366 & 4/12/2016 & 13162 & 8.50 & 8.50 & 0 & 1.88 & 0.55 & 6.06 & 0 & 25 & 13 & 328 &  728 & 1985\\\\\n",
       "\t2 & 1503960366 & 4/13/2016 & 10735 & 6.97 & 6.97 & 0 & 1.57 & 0.69 & 4.71 & 0 & 21 & 19 & 217 &  776 & 1797\\\\\n",
       "\t3 & 1503960366 & 4/14/2016 & 10460 & 6.74 & 6.74 & 0 & 2.44 & 0.40 & 3.91 & 0 & 30 & 11 & 181 & 1218 & 1776\\\\\n",
       "\t4 & 1503960366 & 4/15/2016 &  9762 & 6.28 & 6.28 & 0 & 2.14 & 1.26 & 2.83 & 0 & 29 & 34 & 209 &  726 & 1745\\\\\n",
       "\t5 & 1503960366 & 4/16/2016 & 12669 & 8.16 & 8.16 & 0 & 2.71 & 0.41 & 5.04 & 0 & 36 & 10 & 221 &  773 & 1863\\\\\n",
       "\t6 & 1503960366 & 4/17/2016 &  9705 & 6.48 & 6.48 & 0 & 3.19 & 0.78 & 2.51 & 0 & 38 & 20 & 164 &  539 & 1728\\\\\n",
       "\\end{tabular}\n"
      ],
      "text/markdown": [
       "\n",
       "A data.frame: 6 × 15\n",
       "\n",
       "| <!--/--> | Id &lt;dbl&gt; | ActivityDate &lt;chr&gt; | TotalSteps &lt;int&gt; | TotalDistance &lt;dbl&gt; | TrackerDistance &lt;dbl&gt; | LoggedActivitiesDistance &lt;dbl&gt; | VeryActiveDistance &lt;dbl&gt; | ModeratelyActiveDistance &lt;dbl&gt; | LightActiveDistance &lt;dbl&gt; | SedentaryActiveDistance &lt;dbl&gt; | VeryActiveMinutes &lt;int&gt; | FairlyActiveMinutes &lt;int&gt; | LightlyActiveMinutes &lt;int&gt; | SedentaryMinutes &lt;int&gt; | Calories &lt;int&gt; |\n",
       "|---|---|---|---|---|---|---|---|---|---|---|---|---|---|---|---|\n",
       "| 1 | 1503960366 | 4/12/2016 | 13162 | 8.50 | 8.50 | 0 | 1.88 | 0.55 | 6.06 | 0 | 25 | 13 | 328 |  728 | 1985 |\n",
       "| 2 | 1503960366 | 4/13/2016 | 10735 | 6.97 | 6.97 | 0 | 1.57 | 0.69 | 4.71 | 0 | 21 | 19 | 217 |  776 | 1797 |\n",
       "| 3 | 1503960366 | 4/14/2016 | 10460 | 6.74 | 6.74 | 0 | 2.44 | 0.40 | 3.91 | 0 | 30 | 11 | 181 | 1218 | 1776 |\n",
       "| 4 | 1503960366 | 4/15/2016 |  9762 | 6.28 | 6.28 | 0 | 2.14 | 1.26 | 2.83 | 0 | 29 | 34 | 209 |  726 | 1745 |\n",
       "| 5 | 1503960366 | 4/16/2016 | 12669 | 8.16 | 8.16 | 0 | 2.71 | 0.41 | 5.04 | 0 | 36 | 10 | 221 |  773 | 1863 |\n",
       "| 6 | 1503960366 | 4/17/2016 |  9705 | 6.48 | 6.48 | 0 | 3.19 | 0.78 | 2.51 | 0 | 38 | 20 | 164 |  539 | 1728 |\n",
       "\n"
      ],
      "text/plain": [
       "  Id         ActivityDate TotalSteps TotalDistance TrackerDistance\n",
       "1 1503960366 4/12/2016    13162      8.50          8.50           \n",
       "2 1503960366 4/13/2016    10735      6.97          6.97           \n",
       "3 1503960366 4/14/2016    10460      6.74          6.74           \n",
       "4 1503960366 4/15/2016     9762      6.28          6.28           \n",
       "5 1503960366 4/16/2016    12669      8.16          8.16           \n",
       "6 1503960366 4/17/2016     9705      6.48          6.48           \n",
       "  LoggedActivitiesDistance VeryActiveDistance ModeratelyActiveDistance\n",
       "1 0                        1.88               0.55                    \n",
       "2 0                        1.57               0.69                    \n",
       "3 0                        2.44               0.40                    \n",
       "4 0                        2.14               1.26                    \n",
       "5 0                        2.71               0.41                    \n",
       "6 0                        3.19               0.78                    \n",
       "  LightActiveDistance SedentaryActiveDistance VeryActiveMinutes\n",
       "1 6.06                0                       25               \n",
       "2 4.71                0                       21               \n",
       "3 3.91                0                       30               \n",
       "4 2.83                0                       29               \n",
       "5 5.04                0                       36               \n",
       "6 2.51                0                       38               \n",
       "  FairlyActiveMinutes LightlyActiveMinutes SedentaryMinutes Calories\n",
       "1 13                  328                   728             1985    \n",
       "2 19                  217                   776             1797    \n",
       "3 11                  181                  1218             1776    \n",
       "4 34                  209                   726             1745    \n",
       "5 10                  221                   773             1863    \n",
       "6 20                  164                   539             1728    "
      ]
     },
     "metadata": {},
     "output_type": "display_data"
    },
    {
     "data": {
      "text/html": [
       "<table class=\"dataframe\">\n",
       "<caption>A data.frame: 6 × 5</caption>\n",
       "<thead>\n",
       "\t<tr><th></th><th scope=col>Id</th><th scope=col>SleepDay</th><th scope=col>TotalSleepRecords</th><th scope=col>TotalMinutesAsleep</th><th scope=col>TotalTimeInBed</th></tr>\n",
       "\t<tr><th></th><th scope=col>&lt;dbl&gt;</th><th scope=col>&lt;chr&gt;</th><th scope=col>&lt;int&gt;</th><th scope=col>&lt;int&gt;</th><th scope=col>&lt;int&gt;</th></tr>\n",
       "</thead>\n",
       "<tbody>\n",
       "\t<tr><th scope=row>1</th><td>1503960366</td><td>4/12/2016 12:00:00 AM</td><td>1</td><td>327</td><td>346</td></tr>\n",
       "\t<tr><th scope=row>2</th><td>1503960366</td><td>4/13/2016 12:00:00 AM</td><td>2</td><td>384</td><td>407</td></tr>\n",
       "\t<tr><th scope=row>3</th><td>1503960366</td><td>4/15/2016 12:00:00 AM</td><td>1</td><td>412</td><td>442</td></tr>\n",
       "\t<tr><th scope=row>4</th><td>1503960366</td><td>4/16/2016 12:00:00 AM</td><td>2</td><td>340</td><td>367</td></tr>\n",
       "\t<tr><th scope=row>5</th><td>1503960366</td><td>4/17/2016 12:00:00 AM</td><td>1</td><td>700</td><td>712</td></tr>\n",
       "\t<tr><th scope=row>6</th><td>1503960366</td><td>4/19/2016 12:00:00 AM</td><td>1</td><td>304</td><td>320</td></tr>\n",
       "</tbody>\n",
       "</table>\n"
      ],
      "text/latex": [
       "A data.frame: 6 × 5\n",
       "\\begin{tabular}{r|lllll}\n",
       "  & Id & SleepDay & TotalSleepRecords & TotalMinutesAsleep & TotalTimeInBed\\\\\n",
       "  & <dbl> & <chr> & <int> & <int> & <int>\\\\\n",
       "\\hline\n",
       "\t1 & 1503960366 & 4/12/2016 12:00:00 AM & 1 & 327 & 346\\\\\n",
       "\t2 & 1503960366 & 4/13/2016 12:00:00 AM & 2 & 384 & 407\\\\\n",
       "\t3 & 1503960366 & 4/15/2016 12:00:00 AM & 1 & 412 & 442\\\\\n",
       "\t4 & 1503960366 & 4/16/2016 12:00:00 AM & 2 & 340 & 367\\\\\n",
       "\t5 & 1503960366 & 4/17/2016 12:00:00 AM & 1 & 700 & 712\\\\\n",
       "\t6 & 1503960366 & 4/19/2016 12:00:00 AM & 1 & 304 & 320\\\\\n",
       "\\end{tabular}\n"
      ],
      "text/markdown": [
       "\n",
       "A data.frame: 6 × 5\n",
       "\n",
       "| <!--/--> | Id &lt;dbl&gt; | SleepDay &lt;chr&gt; | TotalSleepRecords &lt;int&gt; | TotalMinutesAsleep &lt;int&gt; | TotalTimeInBed &lt;int&gt; |\n",
       "|---|---|---|---|---|---|\n",
       "| 1 | 1503960366 | 4/12/2016 12:00:00 AM | 1 | 327 | 346 |\n",
       "| 2 | 1503960366 | 4/13/2016 12:00:00 AM | 2 | 384 | 407 |\n",
       "| 3 | 1503960366 | 4/15/2016 12:00:00 AM | 1 | 412 | 442 |\n",
       "| 4 | 1503960366 | 4/16/2016 12:00:00 AM | 2 | 340 | 367 |\n",
       "| 5 | 1503960366 | 4/17/2016 12:00:00 AM | 1 | 700 | 712 |\n",
       "| 6 | 1503960366 | 4/19/2016 12:00:00 AM | 1 | 304 | 320 |\n",
       "\n"
      ],
      "text/plain": [
       "  Id         SleepDay              TotalSleepRecords TotalMinutesAsleep\n",
       "1 1503960366 4/12/2016 12:00:00 AM 1                 327               \n",
       "2 1503960366 4/13/2016 12:00:00 AM 2                 384               \n",
       "3 1503960366 4/15/2016 12:00:00 AM 1                 412               \n",
       "4 1503960366 4/16/2016 12:00:00 AM 2                 340               \n",
       "5 1503960366 4/17/2016 12:00:00 AM 1                 700               \n",
       "6 1503960366 4/19/2016 12:00:00 AM 1                 304               \n",
       "  TotalTimeInBed\n",
       "1 346           \n",
       "2 407           \n",
       "3 442           \n",
       "4 367           \n",
       "5 712           \n",
       "6 320           "
      ]
     },
     "metadata": {},
     "output_type": "display_data"
    }
   ],
   "source": [
    "head(daily_activity_raw)\n",
    "head(sleep_day_raw)"
   ]
  },
  {
   "cell_type": "markdown",
   "id": "2eb75286",
   "metadata": {
    "papermill": {
     "duration": 0.021363,
     "end_time": "2021-07-17T16:15:01.017309",
     "exception": false,
     "start_time": "2021-07-17T16:15:00.995946",
     "status": "completed"
    },
    "tags": []
   },
   "source": [
    "There are more unique participants in the daily activity dataset than the daily sleep dataset."
   ]
  },
  {
   "cell_type": "code",
   "execution_count": 4,
   "id": "2b76c485",
   "metadata": {
    "execution": {
     "iopub.execute_input": "2021-07-17T16:15:01.064022Z",
     "iopub.status.busy": "2021-07-17T16:15:01.062696Z",
     "iopub.status.idle": "2021-07-17T16:15:01.088073Z",
     "shell.execute_reply": "2021-07-17T16:15:01.086300Z"
    },
    "papermill": {
     "duration": 0.050248,
     "end_time": "2021-07-17T16:15:01.088240",
     "exception": false,
     "start_time": "2021-07-17T16:15:01.037992",
     "status": "completed"
    },
    "tags": []
   },
   "outputs": [
    {
     "data": {
      "text/html": [
       "33"
      ],
      "text/latex": [
       "33"
      ],
      "text/markdown": [
       "33"
      ],
      "text/plain": [
       "[1] 33"
      ]
     },
     "metadata": {},
     "output_type": "display_data"
    },
    {
     "data": {
      "text/html": [
       "24"
      ],
      "text/latex": [
       "24"
      ],
      "text/markdown": [
       "24"
      ],
      "text/plain": [
       "[1] 24"
      ]
     },
     "metadata": {},
     "output_type": "display_data"
    }
   ],
   "source": [
    "n_distinct(daily_activity_raw$Id)\n",
    "n_distinct(sleep_day_raw$Id)"
   ]
  },
  {
   "cell_type": "markdown",
   "id": "09d40f82",
   "metadata": {
    "papermill": {
     "duration": 0.021839,
     "end_time": "2021-07-17T16:15:01.132598",
     "exception": false,
     "start_time": "2021-07-17T16:15:01.110759",
     "status": "completed"
    },
    "tags": []
   },
   "source": [
    "# Phase 3: PROCESS"
   ]
  },
  {
   "cell_type": "markdown",
   "id": "ea0bc0c3",
   "metadata": {
    "papermill": {
     "duration": 0.021884,
     "end_time": "2021-07-17T16:15:01.176749",
     "exception": false,
     "start_time": "2021-07-17T16:15:01.154865",
     "status": "completed"
    },
    "tags": []
   },
   "source": [
    "Cleaning and Manipulating\n",
    "* Remove any duplicates\n",
    "* Remove missing values\n",
    "* Rename activity date column to date\n",
    "* Rename sleep day to date\n",
    "* Format date \n",
    "* Create weekdays column\n",
    "* Create new column total active minutes to sum all activity minutes\n"
   ]
  },
  {
   "cell_type": "markdown",
   "id": "489d88d8",
   "metadata": {
    "papermill": {
     "duration": 0.021654,
     "end_time": "2021-07-17T16:15:01.219918",
     "exception": false,
     "start_time": "2021-07-17T16:15:01.198264",
     "status": "completed"
    },
    "tags": []
   },
   "source": [
    "daily activity dataset."
   ]
  },
  {
   "cell_type": "code",
   "execution_count": 5,
   "id": "43afaba0",
   "metadata": {
    "execution": {
     "iopub.execute_input": "2021-07-17T16:15:01.269269Z",
     "iopub.status.busy": "2021-07-17T16:15:01.267313Z",
     "iopub.status.idle": "2021-07-17T16:15:01.306621Z",
     "shell.execute_reply": "2021-07-17T16:15:01.305185Z"
    },
    "papermill": {
     "duration": 0.065243,
     "end_time": "2021-07-17T16:15:01.306775",
     "exception": false,
     "start_time": "2021-07-17T16:15:01.241532",
     "status": "completed"
    },
    "tags": []
   },
   "outputs": [
    {
     "data": {
      "text/html": [
       "0"
      ],
      "text/latex": [
       "0"
      ],
      "text/markdown": [
       "0"
      ],
      "text/plain": [
       "[1] 0"
      ]
     },
     "metadata": {},
     "output_type": "display_data"
    },
    {
     "data": {
      "text/html": [
       "0"
      ],
      "text/latex": [
       "0"
      ],
      "text/markdown": [
       "0"
      ],
      "text/plain": [
       "[1] 0"
      ]
     },
     "metadata": {},
     "output_type": "display_data"
    }
   ],
   "source": [
    "#Find any duplicates\n",
    "sum(duplicated(daily_activity_raw))\n",
    "\n",
    "#Find missing values\n",
    "sum(is.na(daily_activity_raw))\n",
    "\n",
    "#Rename activitydate to date\n",
    "colnames(daily_activity_raw)[colnames(daily_activity_raw) == \"ActivityDate\"] <- \"Date\"\n",
    "\n",
    "#Format date\n",
    "daily_activity_raw$Date <-  as.Date(daily_activity_raw$Date,format='%m/%d/%Y') \n",
    "\n",
    "#Add weekdays column\n",
    "daily_activity_raw$Weekdays<- weekdays(daily_activity_raw$Date,abbr = FALSE)"
   ]
  },
  {
   "cell_type": "markdown",
   "id": "f13b24a1",
   "metadata": {
    "papermill": {
     "duration": 0.023255,
     "end_time": "2021-07-17T16:15:01.352227",
     "exception": false,
     "start_time": "2021-07-17T16:15:01.328972",
     "status": "completed"
    },
    "tags": []
   },
   "source": [
    "sleep day dataset"
   ]
  },
  {
   "cell_type": "code",
   "execution_count": 6,
   "id": "329c6587",
   "metadata": {
    "execution": {
     "iopub.execute_input": "2021-07-17T16:15:01.403133Z",
     "iopub.status.busy": "2021-07-17T16:15:01.402533Z",
     "iopub.status.idle": "2021-07-17T16:15:01.447820Z",
     "shell.execute_reply": "2021-07-17T16:15:01.445657Z"
    },
    "papermill": {
     "duration": 0.073112,
     "end_time": "2021-07-17T16:15:01.447973",
     "exception": false,
     "start_time": "2021-07-17T16:15:01.374861",
     "status": "completed"
    },
    "tags": []
   },
   "outputs": [
    {
     "data": {
      "text/html": [
       "3"
      ],
      "text/latex": [
       "3"
      ],
      "text/markdown": [
       "3"
      ],
      "text/plain": [
       "[1] 3"
      ]
     },
     "metadata": {},
     "output_type": "display_data"
    },
    {
     "data": {
      "text/html": [
       "0"
      ],
      "text/latex": [
       "0"
      ],
      "text/markdown": [
       "0"
      ],
      "text/plain": [
       "[1] 0"
      ]
     },
     "metadata": {},
     "output_type": "display_data"
    },
    {
     "name": "stdout",
     "output_type": "stream",
     "text": [
      "'data.frame':\t413 obs. of  6 variables:\n",
      " $ Id                : num  1.5e+09 1.5e+09 1.5e+09 1.5e+09 1.5e+09 ...\n",
      " $ Date              : Date, format: \"2016-04-12\" \"2016-04-13\" ...\n",
      " $ TotalSleepRecords : int  1 2 1 2 1 1 1 1 1 1 ...\n",
      " $ TotalMinutesAsleep: int  327 384 412 340 700 304 360 325 361 430 ...\n",
      " $ TotalTimeInBed    : int  346 407 442 367 712 320 377 364 384 449 ...\n",
      " $ Weekdays          : chr  \"Tuesday\" \"Wednesday\" \"Friday\" \"Saturday\" ...\n"
     ]
    }
   ],
   "source": [
    "\n",
    "#Find duplicates\n",
    "sum(duplicated(sleep_day_raw))\n",
    "\n",
    "#Find missing values\n",
    "sum(is.na(sleep_day_raw))\n",
    "\n",
    "#Rename ActivityDate column to Date\n",
    "colnames(sleep_day_raw)[colnames(sleep_day_raw) == \"SleepDay\"] <- \"Date\"\n",
    "\n",
    "#Format column to date type\n",
    "sleep_day_raw$Date <-  as.Date(sleep_day_raw$Date,format='%m/%d/%Y') \n",
    "\n",
    "#Add new column with weekdays\n",
    "sleep_day_raw$Weekdays<- weekdays(sleep_day_raw$Date,abbr = FALSE)\n",
    "\n",
    "#Verify Sleep Day in date format\n",
    "str(sleep_day_raw)\n"
   ]
  },
  {
   "cell_type": "markdown",
   "id": "06b30114",
   "metadata": {
    "papermill": {
     "duration": 0.023394,
     "end_time": "2021-07-17T16:15:01.494959",
     "exception": false,
     "start_time": "2021-07-17T16:15:01.471565",
     "status": "completed"
    },
    "tags": []
   },
   "source": [
    "Merging Datasets"
   ]
  },
  {
   "cell_type": "code",
   "execution_count": 7,
   "id": "21ca1c56",
   "metadata": {
    "execution": {
     "iopub.execute_input": "2021-07-17T16:15:01.547677Z",
     "iopub.status.busy": "2021-07-17T16:15:01.546069Z",
     "iopub.status.idle": "2021-07-17T16:15:01.570171Z",
     "shell.execute_reply": "2021-07-17T16:15:01.568649Z"
    },
    "papermill": {
     "duration": 0.051603,
     "end_time": "2021-07-17T16:15:01.570336",
     "exception": false,
     "start_time": "2021-07-17T16:15:01.518733",
     "status": "completed"
    },
    "tags": []
   },
   "outputs": [],
   "source": [
    "\n",
    "combined_data <- merge(sleep_day_raw, daily_activity_raw, by= c(\"Id\",\"Date\",\"Weekdays\"))"
   ]
  },
  {
   "cell_type": "markdown",
   "id": "65f6613e",
   "metadata": {
    "papermill": {
     "duration": 0.023653,
     "end_time": "2021-07-17T16:15:01.617560",
     "exception": false,
     "start_time": "2021-07-17T16:15:01.593907",
     "status": "completed"
    },
    "tags": []
   },
   "source": [
    "# Phase 4: ANALYZE"
   ]
  },
  {
   "cell_type": "markdown",
   "id": "ee33ec1d",
   "metadata": {
    "papermill": {
     "duration": 0.023606,
     "end_time": "2021-07-17T16:15:01.664644",
     "exception": false,
     "start_time": "2021-07-17T16:15:01.641038",
     "status": "completed"
    },
    "tags": []
   },
   "source": [
    "In order to analyze the data further we need to catergorize some variables and create some new columns.\n",
    "* Sleep hours (<6 is underslept, 6-8 is ideal, and >8 is overslept)"
   ]
  },
  {
   "cell_type": "code",
   "execution_count": 8,
   "id": "6da00fef",
   "metadata": {
    "execution": {
     "iopub.execute_input": "2021-07-17T16:15:01.724341Z",
     "iopub.status.busy": "2021-07-17T16:15:01.715858Z",
     "iopub.status.idle": "2021-07-17T16:15:01.751577Z",
     "shell.execute_reply": "2021-07-17T16:15:01.749969Z"
    },
    "papermill": {
     "duration": 0.063566,
     "end_time": "2021-07-17T16:15:01.751746",
     "exception": false,
     "start_time": "2021-07-17T16:15:01.688180",
     "status": "completed"
    },
    "tags": []
   },
   "outputs": [],
   "source": [
    "\n",
    "combined_data <- combined_data %>%\n",
    "  mutate(sleep_hours = case_when(\n",
    "    TotalMinutesAsleep > 360 & TotalMinutesAsleep <= 480 ~ \"Ideal\",\n",
    "    TotalMinutesAsleep > 480 ~ \"Overslept\",\n",
    "    TRUE ~ \"Underslept\"))"
   ]
  },
  {
   "cell_type": "markdown",
   "id": "1326fa02",
   "metadata": {
    "papermill": {
     "duration": 0.023142,
     "end_time": "2021-07-17T16:15:01.798256",
     "exception": false,
     "start_time": "2021-07-17T16:15:01.775114",
     "status": "completed"
    },
    "tags": []
   },
   "source": [
    "* Number Of Daily Steps (<5k, 5k-10k, >10k)"
   ]
  },
  {
   "cell_type": "code",
   "execution_count": 9,
   "id": "806e41f3",
   "metadata": {
    "execution": {
     "iopub.execute_input": "2021-07-17T16:15:01.851771Z",
     "iopub.status.busy": "2021-07-17T16:15:01.849743Z",
     "iopub.status.idle": "2021-07-17T16:15:01.871323Z",
     "shell.execute_reply": "2021-07-17T16:15:01.869891Z"
    },
    "papermill": {
     "duration": 0.049767,
     "end_time": "2021-07-17T16:15:01.871499",
     "exception": false,
     "start_time": "2021-07-17T16:15:01.821732",
     "status": "completed"
    },
    "tags": []
   },
   "outputs": [],
   "source": [
    "\n",
    "combined_data <- combined_data %>%\n",
    "  mutate(Daily_steps = case_when(\n",
    "    TotalSteps > 5000 & TotalSteps <= 10000 ~ \"5k - 10k\",\n",
    "    TotalSteps > 10000 ~ \"> 10k\",\n",
    "    TRUE ~ \"< 5k\"))"
   ]
  },
  {
   "cell_type": "markdown",
   "id": "3035d173",
   "metadata": {
    "papermill": {
     "duration": 0.023745,
     "end_time": "2021-07-17T16:15:01.918734",
     "exception": false,
     "start_time": "2021-07-17T16:15:01.894989",
     "status": "completed"
    },
    "tags": []
   },
   "source": [
    "* Total active minutes"
   ]
  },
  {
   "cell_type": "code",
   "execution_count": 10,
   "id": "6bdfba01",
   "metadata": {
    "execution": {
     "iopub.execute_input": "2021-07-17T16:15:01.971929Z",
     "iopub.status.busy": "2021-07-17T16:15:01.969993Z",
     "iopub.status.idle": "2021-07-17T16:15:01.987939Z",
     "shell.execute_reply": "2021-07-17T16:15:01.986530Z"
    },
    "papermill": {
     "duration": 0.04591,
     "end_time": "2021-07-17T16:15:01.988084",
     "exception": false,
     "start_time": "2021-07-17T16:15:01.942174",
     "status": "completed"
    },
    "tags": []
   },
   "outputs": [],
   "source": [
    "\n",
    "#Add column total active minutes\n",
    "combined_data <-combined_data  %>% \n",
    "  mutate(TotalActiveMinutes = VeryActiveMinutes + FairlyActiveMinutes + LightlyActiveMinutes)\n"
   ]
  },
  {
   "cell_type": "markdown",
   "id": "10a970f3",
   "metadata": {
    "papermill": {
     "duration": 0.023259,
     "end_time": "2021-07-17T16:15:02.034809",
     "exception": false,
     "start_time": "2021-07-17T16:15:02.011550",
     "status": "completed"
    },
    "tags": []
   },
   "source": [
    "* Calories Burned (<1.5k, 1.5k - 2.5k, >2.5k)"
   ]
  },
  {
   "cell_type": "code",
   "execution_count": 11,
   "id": "33fed38b",
   "metadata": {
    "execution": {
     "iopub.execute_input": "2021-07-17T16:15:02.088021Z",
     "iopub.status.busy": "2021-07-17T16:15:02.087432Z",
     "iopub.status.idle": "2021-07-17T16:15:02.101801Z",
     "shell.execute_reply": "2021-07-17T16:15:02.100568Z"
    },
    "papermill": {
     "duration": 0.043724,
     "end_time": "2021-07-17T16:15:02.101959",
     "exception": false,
     "start_time": "2021-07-17T16:15:02.058235",
     "status": "completed"
    },
    "tags": []
   },
   "outputs": [],
   "source": [
    "\n",
    "combined_data <- combined_data %>%\n",
    "  mutate(calorie_categories = case_when(\n",
    "    Calories > 1500 & Calories <= 2500 ~ \"1.5k - 2.5k\",\n",
    "    Calories > 2500 ~ \"> 2.5k\",\n",
    "    TRUE ~ \"< 1.5k\"))"
   ]
  },
  {
   "cell_type": "markdown",
   "id": "06cb6f47",
   "metadata": {
    "papermill": {
     "duration": 0.023571,
     "end_time": "2021-07-17T16:15:02.149874",
     "exception": false,
     "start_time": "2021-07-17T16:15:02.126303",
     "status": "completed"
    },
    "tags": []
   },
   "source": [
    "# Phase 5: SHARE"
   ]
  },
  {
   "cell_type": "code",
   "execution_count": 12,
   "id": "b65f674d",
   "metadata": {
    "execution": {
     "iopub.execute_input": "2021-07-17T16:15:02.203207Z",
     "iopub.status.busy": "2021-07-17T16:15:02.201769Z",
     "iopub.status.idle": "2021-07-17T16:15:02.719729Z",
     "shell.execute_reply": "2021-07-17T16:15:02.718579Z"
    },
    "papermill": {
     "duration": 0.545668,
     "end_time": "2021-07-17T16:15:02.719924",
     "exception": false,
     "start_time": "2021-07-17T16:15:02.174256",
     "status": "completed"
    },
    "tags": []
   },
   "outputs": [
    {
     "data": {
      "image/png": "[encoded data removed]"
     },
     "metadata": {
      "image/png": {
       "height": 420,
       "width": 420
      }
     },
     "output_type": "display_data"
    }
   ],
   "source": [
    "recored_type <- c(\"Daily activity records\",\"Daily sleep records\")\n",
    "record_number <-c(n_distinct(daily_activity_raw$Id),n_distinct(sleep_day_raw$Id))\n",
    "record_count <- data.frame(recored_type,record_number)\n",
    "\n",
    "ggplot(record_count, aes(recored_type,record_number)) +\n",
    "  geom_bar(stat= \"identity\", fill=\"blue\")+ \n",
    "  geom_text(aes(label=record_number), vjust=4, color=\"white\")+\n",
    "  labs(title=\"Total Records by Types\",  x= \"Record Types\", y=\"Number of Records\")"
   ]
  },
  {
   "cell_type": "markdown",
   "id": "3ccd69a5",
   "metadata": {
    "papermill": {
     "duration": 0.024463,
     "end_time": "2021-07-17T16:15:02.769889",
     "exception": false,
     "start_time": "2021-07-17T16:15:02.745426",
     "status": "completed"
    },
    "tags": []
   },
   "source": [
    "More people recorded their daily activies with their fitbits with 33 distinct records. Whereas there were only 24 distinct sleep records recorded. "
   ]
  },
  {
   "cell_type": "code",
   "execution_count": 13,
   "id": "c18259c2",
   "metadata": {
    "execution": {
     "iopub.execute_input": "2021-07-17T16:15:02.824753Z",
     "iopub.status.busy": "2021-07-17T16:15:02.823617Z",
     "iopub.status.idle": "2021-07-17T16:15:03.295938Z",
     "shell.execute_reply": "2021-07-17T16:15:03.296344Z"
    },
    "papermill": {
     "duration": 0.501929,
     "end_time": "2021-07-17T16:15:03.296515",
     "exception": false,
     "start_time": "2021-07-17T16:15:02.794586",
     "status": "completed"
    },
    "tags": []
   },
   "outputs": [
    {
     "data": {
      "image/png": "[encoded data removed]"
     },
     "metadata": {
      "image/png": {
       "height": 420,
       "width": 420
      }
     },
     "output_type": "display_data"
    }
   ],
   "source": [
    "\n",
    "ggplot(data = combined_data) +\n",
    "  geom_point(mapping = aes(x=TotalActiveMinutes, y=Calories, color=sleep_hours))+facet_wrap(~sleep_hours)+labs(title=\"How Sleep Effects Calories Burned and Activity Duration\")    "
   ]
  },
  {
   "cell_type": "markdown",
   "id": "1b9d5ac3",
   "metadata": {
    "papermill": {
     "duration": 0.02737,
     "end_time": "2021-07-17T16:15:03.351514",
     "exception": false,
     "start_time": "2021-07-17T16:15:03.324144",
     "status": "completed"
    },
    "tags": []
   },
   "source": [
    "Relationship between calories burned and total minutes active based on the number of hours each person slept.The people who slept for the ideal number of hours were able to burn more calories as well as stay active for a longer time than those who either overslept or underslept.  "
   ]
  },
  {
   "cell_type": "code",
   "execution_count": 14,
   "id": "76d6a895",
   "metadata": {
    "execution": {
     "iopub.execute_input": "2021-07-17T16:15:03.411562Z",
     "iopub.status.busy": "2021-07-17T16:15:03.410014Z",
     "iopub.status.idle": "2021-07-17T16:15:03.447486Z",
     "shell.execute_reply": "2021-07-17T16:15:03.446039Z"
    },
    "papermill": {
     "duration": 0.068718,
     "end_time": "2021-07-17T16:15:03.447657",
     "exception": false,
     "start_time": "2021-07-17T16:15:03.378939",
     "status": "completed"
    },
    "tags": []
   },
   "outputs": [],
   "source": [
    "average_daily_very_active_min <- combined_data %>%\n",
    "  group_by(Weekdays) %>% \n",
    "  summarise_at(vars(VeryActiveMinutes),\n",
    "               list(VeryActiveMinutes = mean))"
   ]
  },
  {
   "cell_type": "code",
   "execution_count": 15,
   "id": "33e25e79",
   "metadata": {
    "execution": {
     "iopub.execute_input": "2021-07-17T16:15:03.509024Z",
     "iopub.status.busy": "2021-07-17T16:15:03.507124Z",
     "iopub.status.idle": "2021-07-17T16:15:03.522767Z",
     "shell.execute_reply": "2021-07-17T16:15:03.521396Z"
    },
    "jupyter": {
     "source_hidden": true
    },
    "papermill": {
     "duration": 0.047587,
     "end_time": "2021-07-17T16:15:03.522909",
     "exception": false,
     "start_time": "2021-07-17T16:15:03.475322",
     "status": "completed"
    },
    "tags": []
   },
   "outputs": [],
   "source": [
    "average_daily_very_active_min$Weekdays <- ordered(average_daily_very_active_min$Weekdays, levels=c(\"Monday\", \"Tuesday\", \"Wednesday\", \"Thursday\", \"Friday\", \"Saturday\", \"Sunday\"))\n"
   ]
  },
  {
   "cell_type": "code",
   "execution_count": 16,
   "id": "092e4e76",
   "metadata": {
    "execution": {
     "iopub.execute_input": "2021-07-17T16:15:03.584162Z",
     "iopub.status.busy": "2021-07-17T16:15:03.582279Z",
     "iopub.status.idle": "2021-07-17T16:15:03.795961Z",
     "shell.execute_reply": "2021-07-17T16:15:03.794737Z"
    },
    "papermill": {
     "duration": 0.24564,
     "end_time": "2021-07-17T16:15:03.796098",
     "exception": false,
     "start_time": "2021-07-17T16:15:03.550458",
     "status": "completed"
    },
    "tags": []
   },
   "outputs": [
    {
     "data": {
      "image/png": "[encoded data removed]"
     },
     "metadata": {
      "image/png": {
       "height": 420,
       "width": 420
      }
     },
     "output_type": "display_data"
    }
   ],
   "source": [
    "ggplot(average_daily_very_active_min, aes(x= Weekdays, y = VeryActiveMinutes, group = 1)) + \n",
    "  geom_line(colour=\"red2\") +\n",
    "  labs(title=\"Average Daily Very Active Minutes by Weekdays\", x= \"Weekdays\", y=\"Daily Very Active Minutes\")"
   ]
  },
  {
   "cell_type": "markdown",
   "id": "3d5e688b",
   "metadata": {
    "papermill": {
     "duration": 0.028986,
     "end_time": "2021-07-17T16:15:03.854482",
     "exception": false,
     "start_time": "2021-07-17T16:15:03.825496",
     "status": "completed"
    },
    "tags": []
   },
   "source": [
    "Monday and Tuesday are the days people are doing the most intensive workouts while Wednesday and Friday are the least intensive.\n"
   ]
  },
  {
   "cell_type": "markdown",
   "id": "43eb4579",
   "metadata": {
    "papermill": {
     "duration": 0.029267,
     "end_time": "2021-07-17T16:15:03.913122",
     "exception": false,
     "start_time": "2021-07-17T16:15:03.883855",
     "status": "completed"
    },
    "tags": []
   },
   "source": [
    "# Phase 6: ACT"
   ]
  },
  {
   "cell_type": "markdown",
   "id": "32a9ae26",
   "metadata": {
    "papermill": {
     "duration": 0.029947,
     "end_time": "2021-07-17T16:15:03.972139",
     "exception": false,
     "start_time": "2021-07-17T16:15:03.942192",
     "status": "completed"
    },
    "tags": []
   },
   "source": [
    "**Reccomendations**"
   ]
  },
  {
   "cell_type": "markdown",
   "id": "20d88978",
   "metadata": {
    "papermill": {
     "duration": 0.030076,
     "end_time": "2021-07-17T16:15:04.032416",
     "exception": false,
     "start_time": "2021-07-17T16:15:04.002340",
     "status": "completed"
    },
    "tags": []
   },
   "source": [
    "* More Fitbit users are tracking activity data than sleep data which could indicate that people dont see sleep as important as daily activity in wellness tracking. By creating awareness on the effects of sleep on wellness and activity levels would be beneficial."
   ]
  },
  {
   "cell_type": "markdown",
   "id": "67d9377c",
   "metadata": {
    "papermill": {
     "duration": 0.029374,
     "end_time": "2021-07-17T16:15:04.091674",
     "exception": false,
     "start_time": "2021-07-17T16:15:04.062300",
     "status": "completed"
    },
    "tags": []
   },
   "source": [
    "* People with ideal sleep (6-8hours) were able to burn more calories and stayed active for more minutes than those who either underslept or overslept. This adds to the importance of tracking sleep data and reccomending sleep based on the activity users plan on performing that day. Creating a marketing campaign on the benefits of getting 6-8 hours of sleep and its effects on activity and calories burned would be helpful to inform customers of the relationship. "
   ]
  },
  {
   "cell_type": "markdown",
   "id": "43b93963",
   "metadata": {
    "papermill": {
     "duration": 0.029764,
     "end_time": "2021-07-17T16:15:04.151006",
     "exception": false,
     "start_time": "2021-07-17T16:15:04.121242",
     "status": "completed"
    },
    "tags": []
   },
   "source": [
    " * Users performed their most intensive workouts on mondays and tuesdays and then workout intesity fell over the rest of the week. By running targeted ads on mondays and tuesdays you can appeal to new customers who are performing intensive workouts and may be more likely to buy fitness related products. Also creating a workout prompt for the rest of the days of the week would help current users stay on track of their fitness goals.\n"
   ]
  }
 ],
 "metadata": {
  "kernelspec": {
   "display_name": "R",
   "language": "R",
   "name": "ir"
  },
  "language_info": {
   "codemirror_mode": "r",
   "file_extension": ".r",
   "mimetype": "text/x-r-source",
   "name": "R",
   "pygments_lexer": "r",
   "version": "4.0.5"
  },
  "papermill": {
   "default_parameters": {},
   "duration": 8.760859,
   "end_time": "2021-07-17T16:15:04.290350",
   "environment_variables": {},
   "exception": null,
   "input_path": "__notebook__.ipynb",
   "output_path": "__notebook__.ipynb",
   "parameters": {},
   "start_time": "2021-07-17T16:14:55.529491",
   "version": "2.3.3"
  }
 },
 "nbformat": 4,
 "nbformat_minor": 5
}
